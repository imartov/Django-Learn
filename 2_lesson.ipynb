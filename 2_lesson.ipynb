{
 "cells": [
  {
   "attachments": {},
   "cell_type": "markdown",
   "metadata": {},
   "source": [
    "# Installing Django using pip: A Step-by-Step Guide\n",
    "\n",
    "Introduction:\n",
    "When starting a Django project, one of the first steps is to install the Django framework. In this article, we will walk through the process of installing Django using pip, a popular package manager for Python. We will cover the necessary steps, including creating a virtual environment, installing Django, and verifying the installation. Additionally, we will provide code examples to illustrate each step.\n",
    "\n",
    "Table of Contents:\n",
    "\n",
    "1. [What is pip?](#what_is_pip)\n",
    "2. [Setting Up a Virtual Environment](#setting_up)\n",
    "3. [Installing Django](#installing_django)\n",
    "4. [Verifying the Installation](#verifying_the_installation)\n",
    "5. [Conclusion](#conclusion)\n",
    "\n",
    "<br/>\n",
    "\n",
    "## <a id='what_is_pip' name='what_is_pip'>What is pip?</a>\n",
    "\n",
    "Pip is the standard package manager for Python, used for installing and managing Python packages. It simplifies the process of fetching and installing packages from the Python Package Index (PyPI) and other repositories.\n",
    "\n",
    "<br/>\n",
    "\n",
    "## <a id='setting_up' name='setting_up'>Setting Up a Virtual Environment</a>:\n",
    "\n",
    "Before installing Django, it's recommended to set up a virtual environment to isolate project dependencies. Here's how to create a virtual environment using the built-in venv module:"
   ]
  },
  {
   "attachments": {},
   "cell_type": "markdown",
   "metadata": {},
   "source": []
  },
  {
   "cell_type": "code",
   "execution_count": null,
   "metadata": {},
   "outputs": [],
   "source": [
    "$ python3 -m venv myenv\n",
    "\n",
    "$ source myenv/bin/activate  # On macOS/Linux\n",
    "$ myenv\\Scripts\\activate.bat  # On Windows"
   ]
  },
  {
   "attachments": {},
   "cell_type": "markdown",
   "metadata": {},
   "source": [
    "<br/>\n",
    "\n",
    "## <a id='installing_django' name='installing_django'>Installing Django</a>:\n",
    "\n",
    "With the virtual environment activated, we can now install Django using pip. Execute the following command:"
   ]
  },
  {
   "cell_type": "code",
   "execution_count": null,
   "metadata": {},
   "outputs": [],
   "source": [
    "$ pip install django"
   ]
  },
  {
   "attachments": {},
   "cell_type": "markdown",
   "metadata": {},
   "source": [
    "This will fetch the latest stable version of Django from PyPI and install it along with its dependencies.\n",
    "\n",
    "<br/>\n",
    "\n",
    "## <a id='verifying_the_installation' name='verifying_the_installation'>Verifying the Installation</a>\n",
    "\n",
    "To ensure that Django has been successfully installed, we can check its version. Create a new Python file, check_django_version.py, and add the following code:"
   ]
  },
  {
   "cell_type": "code",
   "execution_count": null,
   "metadata": {},
   "outputs": [],
   "source": [
    "import django\n",
    "\n",
    "print(f\"Django version: {django.get_version()}\")"
   ]
  },
  {
   "attachments": {},
   "cell_type": "markdown",
   "metadata": {},
   "source": [
    "Save the file and run it using the Python interpreter:"
   ]
  },
  {
   "cell_type": "code",
   "execution_count": null,
   "metadata": {},
   "outputs": [],
   "source": [
    "$ python check_django_version.py"
   ]
  },
  {
   "attachments": {},
   "cell_type": "markdown",
   "metadata": {},
   "source": [
    "If Django is installed correctly, it will display the installed version on the console.\n",
    "\n",
    "<br>\n",
    "\n",
    "## <a id='conclusion' name='conclusion'>Conclusion</a>\n",
    "\n",
    "In this article, we have explored the process of installing Django using pip. We covered setting up a virtual environment, installing Django, and verifying the installation. Following these steps ensures that your Django project starts with a clean and isolated environment. Now that Django is installed, you're ready to start building powerful web applications using this popular Python web framework.\n",
    "Remember to periodically update Django by running pip install --upgrade django to benefit from the latest features and security patches.\n",
    "\n",
    "\n",
    "By following this guide, you can easily get Django up and running on your system and embark on your web development journey. Happy coding with Django!"
   ]
  }
 ],
 "metadata": {
  "kernelspec": {
   "display_name": "Python 3",
   "language": "python",
   "name": "python3"
  },
  "language_info": {
   "name": "python",
   "version": "3.11.0"
  },
  "orig_nbformat": 4
 },
 "nbformat": 4,
 "nbformat_minor": 2
}
